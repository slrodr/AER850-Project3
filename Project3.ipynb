{
  "nbformat": 4,
  "nbformat_minor": 0,
  "metadata": {
    "colab": {
      "provenance": [],
      "gpuType": "T4",
      "mount_file_id": "1PKUFb5QQibBJxjit2NiE0Z-IQcHt-yPo",
      "authorship_tag": "ABX9TyNsk0WXkFX3S7X3xW4hmkwY",
      "include_colab_link": true
    },
    "kernelspec": {
      "name": "python3",
      "display_name": "Python 3"
    },
    "language_info": {
      "name": "python"
    },
    "accelerator": "GPU"
  },
  "cells": [
    {
      "cell_type": "markdown",
      "metadata": {
        "id": "view-in-github",
        "colab_type": "text"
      },
      "source": [
        "<a href=\"https://colab.research.google.com/github/slrodr/AER850-Project3/blob/main/Project3.ipynb\" target=\"_parent\"><img src=\"https://colab.research.google.com/assets/colab-badge.svg\" alt=\"Open In Colab\"/></a>"
      ]
    },
    {
      "cell_type": "code",
      "execution_count": null,
      "metadata": {
        "id": "zaQIk6PvWJXh"
      },
      "outputs": [],
      "source": [
        "import cv2\n",
        "import numpy as np\n",
        "import matplotlib.pyplot as plt\n",
        "\n",
        "motherboard = cv2.imread(\"/content/drive/MyDrive/AER850 Project 3/motherboard_image.JPEG\")\n",
        "''' Step 1:\n",
        "# Convert to grayscale\n",
        "gray = cv2.cvtColor(motherboard, cv2.COLOR_BGR2GRAY)\n"
      ]
    }
  ]
}